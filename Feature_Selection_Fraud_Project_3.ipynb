{
  "nbformat": 4,
  "nbformat_minor": 0,
  "metadata": {
    "colab": {
      "name": "Feature Selection Fraud Project 3.ipynb",
      "provenance": [],
      "mount_file_id": "1-1FF_2s198wNwnDc35llglgs37w6svE_",
      "authorship_tag": "ABX9TyPZQygvZSB8v0lWseZ+ikK6"
    },
    "kernelspec": {
      "name": "python3",
      "display_name": "Python 3"
    }
  },
  "cells": [
    {
      "cell_type": "code",
      "metadata": {
        "id": "MamaQ6Do68lH",
        "colab_type": "code",
        "colab": {}
      },
      "source": [
        "#!pip install category_encoders"
      ],
      "execution_count": 0,
      "outputs": []
    },
    {
      "cell_type": "code",
      "metadata": {
        "id": "FZxqmn1r7Atw",
        "colab_type": "code",
        "colab": {}
      },
      "source": [
        "import pandas as pd\n",
        "import numpy as np\n",
        "import gc\n",
        "from category_encoders.ordinal import OrdinalEncoder\n",
        "from tqdm import tqdm\n",
        "pd.set_option('display.max_columns',None)\n",
        "pd.set_option('display.max_rows',None)"
      ],
      "execution_count": 0,
      "outputs": []
    },
    {
      "cell_type": "code",
      "metadata": {
        "id": "hkb20p9H1fzz",
        "colab_type": "code",
        "outputId": "2fb532e0-3004-4037-ae2b-8254359fa185",
        "colab": {
          "base_uri": "https://localhost:8080/",
          "height": 53
        }
      },
      "source": [
        "%%time\n",
        "data = pd.read_excel('/content/drive/My Drive/Data/card transactions.xlsx', converters={'Cardnum':str})"
      ],
      "execution_count": 3,
      "outputs": [
        {
          "output_type": "stream",
          "text": [
            "CPU times: user 9.26 s, sys: 88.4 ms, total: 9.35 s\n",
            "Wall time: 9.39 s\n"
          ],
          "name": "stdout"
        }
      ]
    },
    {
      "cell_type": "code",
      "metadata": {
        "id": "U92p4sWU1n7S",
        "colab_type": "code",
        "outputId": "c8e0d7fd-b14b-4d49-eb45-cb51e207906e",
        "colab": {
          "base_uri": "https://localhost:8080/",
          "height": 206
        }
      },
      "source": [
        "data.head()"
      ],
      "execution_count": 4,
      "outputs": [
        {
          "output_type": "execute_result",
          "data": {
            "text/html": [
              "<div>\n",
              "<style scoped>\n",
              "    .dataframe tbody tr th:only-of-type {\n",
              "        vertical-align: middle;\n",
              "    }\n",
              "\n",
              "    .dataframe tbody tr th {\n",
              "        vertical-align: top;\n",
              "    }\n",
              "\n",
              "    .dataframe thead th {\n",
              "        text-align: right;\n",
              "    }\n",
              "</style>\n",
              "<table border=\"1\" class=\"dataframe\">\n",
              "  <thead>\n",
              "    <tr style=\"text-align: right;\">\n",
              "      <th></th>\n",
              "      <th>Recnum</th>\n",
              "      <th>Cardnum</th>\n",
              "      <th>Date</th>\n",
              "      <th>Merchnum</th>\n",
              "      <th>Merch description</th>\n",
              "      <th>Merch state</th>\n",
              "      <th>Merch zip</th>\n",
              "      <th>Transtype</th>\n",
              "      <th>Amount</th>\n",
              "      <th>Fraud</th>\n",
              "    </tr>\n",
              "  </thead>\n",
              "  <tbody>\n",
              "    <tr>\n",
              "      <th>0</th>\n",
              "      <td>1</td>\n",
              "      <td>5142190439</td>\n",
              "      <td>2010-01-01</td>\n",
              "      <td>5509006296254</td>\n",
              "      <td>FEDEX SHP 12/23/09 AB#</td>\n",
              "      <td>TN</td>\n",
              "      <td>38118.0</td>\n",
              "      <td>P</td>\n",
              "      <td>3.62</td>\n",
              "      <td>0</td>\n",
              "    </tr>\n",
              "    <tr>\n",
              "      <th>1</th>\n",
              "      <td>2</td>\n",
              "      <td>5142183973</td>\n",
              "      <td>2010-01-01</td>\n",
              "      <td>61003026333</td>\n",
              "      <td>SERVICE MERCHANDISE #81</td>\n",
              "      <td>MA</td>\n",
              "      <td>1803.0</td>\n",
              "      <td>P</td>\n",
              "      <td>31.42</td>\n",
              "      <td>0</td>\n",
              "    </tr>\n",
              "    <tr>\n",
              "      <th>2</th>\n",
              "      <td>3</td>\n",
              "      <td>5142131721</td>\n",
              "      <td>2010-01-01</td>\n",
              "      <td>4503082993600</td>\n",
              "      <td>OFFICE DEPOT #191</td>\n",
              "      <td>MD</td>\n",
              "      <td>20706.0</td>\n",
              "      <td>P</td>\n",
              "      <td>178.49</td>\n",
              "      <td>0</td>\n",
              "    </tr>\n",
              "    <tr>\n",
              "      <th>3</th>\n",
              "      <td>4</td>\n",
              "      <td>5142148452</td>\n",
              "      <td>2010-01-01</td>\n",
              "      <td>5509006296254</td>\n",
              "      <td>FEDEX SHP 12/28/09 AB#</td>\n",
              "      <td>TN</td>\n",
              "      <td>38118.0</td>\n",
              "      <td>P</td>\n",
              "      <td>3.62</td>\n",
              "      <td>0</td>\n",
              "    </tr>\n",
              "    <tr>\n",
              "      <th>4</th>\n",
              "      <td>5</td>\n",
              "      <td>5142190439</td>\n",
              "      <td>2010-01-01</td>\n",
              "      <td>5509006296254</td>\n",
              "      <td>FEDEX SHP 12/23/09 AB#</td>\n",
              "      <td>TN</td>\n",
              "      <td>38118.0</td>\n",
              "      <td>P</td>\n",
              "      <td>3.62</td>\n",
              "      <td>0</td>\n",
              "    </tr>\n",
              "  </tbody>\n",
              "</table>\n",
              "</div>"
            ],
            "text/plain": [
              "   Recnum     Cardnum       Date       Merchnum        Merch description  \\\n",
              "0       1  5142190439 2010-01-01  5509006296254   FEDEX SHP 12/23/09 AB#   \n",
              "1       2  5142183973 2010-01-01    61003026333  SERVICE MERCHANDISE #81   \n",
              "2       3  5142131721 2010-01-01  4503082993600        OFFICE DEPOT #191   \n",
              "3       4  5142148452 2010-01-01  5509006296254   FEDEX SHP 12/28/09 AB#   \n",
              "4       5  5142190439 2010-01-01  5509006296254   FEDEX SHP 12/23/09 AB#   \n",
              "\n",
              "  Merch state  Merch zip Transtype  Amount  Fraud  \n",
              "0          TN    38118.0         P    3.62      0  \n",
              "1          MA     1803.0         P   31.42      0  \n",
              "2          MD    20706.0         P  178.49      0  \n",
              "3          TN    38118.0         P    3.62      0  \n",
              "4          TN    38118.0         P    3.62      0  "
            ]
          },
          "metadata": {
            "tags": []
          },
          "execution_count": 4
        }
      ]
    },
    {
      "cell_type": "code",
      "metadata": {
        "id": "eEbNzvykpMw2",
        "colab_type": "code",
        "colab": {
          "base_uri": "https://localhost:8080/",
          "height": 53
        },
        "outputId": "7051cf81-ccd1-4ab9-d2b8-3a03921e5191"
      },
      "source": [
        "%%time\n",
        "for keys in [['Cardnum', 'Merchnum'], ['Cardnum', 'Merch zip'], ['Cardnum', 'Merch state']]:\n",
        "    data['_'.join(keys)] = data[keys[0]].apply(str) + '_' + data[keys[1]].apply(str)"
      ],
      "execution_count": 5,
      "outputs": [
        {
          "output_type": "stream",
          "text": [
            "CPU times: user 147 ms, sys: 16 ms, total: 163 ms\n",
            "Wall time: 164 ms\n"
          ],
          "name": "stdout"
        }
      ]
    },
    {
      "cell_type": "code",
      "metadata": {
        "id": "kbw6vLBy6qT8",
        "colab_type": "code",
        "colab": {
          "base_uri": "https://localhost:8080/",
          "height": 53
        },
        "outputId": "a987fc33-7795-4cb3-e22b-a2cde86c2cbd"
      },
      "source": [
        "%%time\n",
        "attributes = ['Cardnum', 'Merchnum', 'Cardnum_Merchnum', 'Cardnum_Merch zip', 'Cardnum_Merch state']\n",
        "encoder = OrdinalEncoder()\n",
        "data[attributes] = encoder.fit_transform(data[attributes])"
      ],
      "execution_count": 6,
      "outputs": [
        {
          "output_type": "stream",
          "text": [
            "CPU times: user 389 ms, sys: 16 ms, total: 405 ms\n",
            "Wall time: 407 ms\n"
          ],
          "name": "stdout"
        }
      ]
    },
    {
      "cell_type": "code",
      "metadata": {
        "id": "abyNqD1Y1Es6",
        "colab_type": "code",
        "colab": {
          "base_uri": "https://localhost:8080/",
          "height": 35
        },
        "outputId": "a4bf705b-a3fb-4ac3-b50d-417139b3e2e2"
      },
      "source": [
        "%%time\n",
        "days = ['1d', '2d', '4d', '8d', '15d', '31d']\n",
        "fns = ['mean', 'max', 'median', 'sum']\n",
        "for attribute in tqdm(attributes):\n",
        "    for day in days:\n",
        "        for fn in fns:\n",
        "            data['Amount_'+attribute+'_'+fn+'_'+day] = data[['Date', attribute]].merge(data.set_index('Date').groupby(attributes)['Amount'].rolling(day).agg(fn).reset_index().drop_duplicates(subset = ['Date', attribute]), on = ['Date', attribute], how = 'left')['Amount']\n",
        "            data['Actual_Amount/'+attribute+'_'+fn+'_'+day] = data['Amount'] / data['Amount_'+attribute+'_'+fn+'_'+day]\n",
        "        data[attribute+'_count_'+day] = data[['Date', attribute]].merge(data.set_index('Date').groupby(attribute)[attribute].rolling(day).count().rename('temp').reset_index().drop_duplicates(subset = ['Date', attribute]), on = ['Date', attribute], how = 'left')['temp']\n",
        "        data['Days_since_'+attribute] = data.groupby(attribute)['Date'].diff() / np.timedelta64(1, 'D')"
      ],
      "execution_count": 0,
      "outputs": [
        {
          "output_type": "stream",
          "text": [
            "\r  0%|          | 0/5 [00:00<?, ?it/s]"
          ],
          "name": "stderr"
        }
      ]
    },
    {
      "cell_type": "code",
      "metadata": {
        "id": "JsbKcXXSX0J0",
        "colab_type": "code",
        "colab": {}
      },
      "source": [
        "data[attributes] = encoder.inverse_transform(data[attributes])"
      ],
      "execution_count": 0,
      "outputs": []
    },
    {
      "cell_type": "code",
      "metadata": {
        "id": "0mAU-EF5YFKM",
        "colab_type": "code",
        "colab": {}
      },
      "source": [
        "data.head()"
      ],
      "execution_count": 0,
      "outputs": []
    },
    {
      "cell_type": "code",
      "metadata": {
        "id": "fFkNCz2fYGk6",
        "colab_type": "code",
        "colab": {}
      },
      "source": [
        "data.shape"
      ],
      "execution_count": 0,
      "outputs": []
    },
    {
      "cell_type": "code",
      "metadata": {
        "id": "uBdwIMXUdENc",
        "colab_type": "code",
        "colab": {}
      },
      "source": [
        "data.to_csv('features.csv', index = False)"
      ],
      "execution_count": 0,
      "outputs": []
    }
  ]
}