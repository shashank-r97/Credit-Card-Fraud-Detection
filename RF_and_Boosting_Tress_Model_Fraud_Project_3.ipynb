{
  "nbformat": 4,
  "nbformat_minor": 0,
  "metadata": {
    "colab": {
      "name": "RF and Boosting Tress Model Fraud Project 3.ipynb",
      "provenance": [],
      "collapsed_sections": [],
      "mount_file_id": "1q_4AqfBM8IhIXimkHRgc2nlP159j7KbU",
      "authorship_tag": "ABX9TyOrbeuVj5Mpxh4Don3we7z6"
    },
    "kernelspec": {
      "name": "python3",
      "display_name": "Python 3"
    },
    "accelerator": "GPU"
  },
  "cells": [
    {
      "cell_type": "code",
      "metadata": {
        "id": "14soZU2h0EJ0",
        "colab_type": "code",
        "colab": {}
      },
      "source": [
        "#!pip install catboost"
      ],
      "execution_count": 0,
      "outputs": []
    },
    {
      "cell_type": "code",
      "metadata": {
        "id": "TC1NfDVu0UYH",
        "colab_type": "code",
        "outputId": "2d99ff24-7e53-4374-ebd0-0b84b4c44dfc",
        "colab": {
          "base_uri": "https://localhost:8080/",
          "height": 326
        }
      },
      "source": [
        "gpu_info = !nvidia-smi\n",
        "gpu_info = '\\n'.join(gpu_info)\n",
        "if gpu_info.find('failed') >= 0:\n",
        "  print('Select the Runtime → \"Change runtime type\" menu to enable a GPU accelerator, ')\n",
        "  print('and then re-execute this cell.')\n",
        "else:\n",
        "  print(gpu_info)"
      ],
      "execution_count": 0,
      "outputs": [
        {
          "output_type": "stream",
          "text": [
            "Sun Apr 12 03:43:44 2020       \n",
            "+-----------------------------------------------------------------------------+\n",
            "| NVIDIA-SMI 440.64.00    Driver Version: 418.67       CUDA Version: 10.1     |\n",
            "|-------------------------------+----------------------+----------------------+\n",
            "| GPU  Name        Persistence-M| Bus-Id        Disp.A | Volatile Uncorr. ECC |\n",
            "| Fan  Temp  Perf  Pwr:Usage/Cap|         Memory-Usage | GPU-Util  Compute M. |\n",
            "|===============================+======================+======================|\n",
            "|   0  Tesla P4            Off  | 00000000:00:04.0 Off |                    0 |\n",
            "| N/A   36C    P8     7W /  75W |      0MiB /  7611MiB |      0%      Default |\n",
            "+-------------------------------+----------------------+----------------------+\n",
            "                                                                               \n",
            "+-----------------------------------------------------------------------------+\n",
            "| Processes:                                                       GPU Memory |\n",
            "|  GPU       PID   Type   Process name                             Usage      |\n",
            "|=============================================================================|\n",
            "|  No running processes found                                                 |\n",
            "+-----------------------------------------------------------------------------+\n"
          ],
          "name": "stdout"
        }
      ]
    },
    {
      "cell_type": "code",
      "metadata": {
        "id": "FI0_Jb010N-9",
        "colab_type": "code",
        "colab": {}
      },
      "source": [
        "import pandas as pd\n",
        "import numpy as np\n",
        "from hyperopt import hp\n",
        "import gc\n",
        "import xgboost as xgb\n",
        "import catboost as ctb\n",
        "pd.set_option('display.max_columns',None)\n",
        "pd.set_option('display.max_rows',None)\n",
        "from hyperopt import fmin, tpe, STATUS_OK, STATUS_FAIL, Trials"
      ],
      "execution_count": 0,
      "outputs": []
    },
    {
      "cell_type": "code",
      "metadata": {
        "id": "JNYmZWNw0Z_Z",
        "colab_type": "code",
        "outputId": "f2c75242-1b5a-4886-d6b5-c43b613c066d",
        "colab": {
          "base_uri": "https://localhost:8080/",
          "height": 53
        }
      },
      "source": [
        "%%time\n",
        "data = pd.read_csv('/content/drive/My Drive/Data/features.csv')\n",
        "data['Date'] = pd.to_datetime(data['Date'].apply(lambda x: x.split()[0]))"
      ],
      "execution_count": 0,
      "outputs": [
        {
          "output_type": "stream",
          "text": [
            "CPU times: user 5.18 s, sys: 522 ms, total: 5.7 s\n",
            "Wall time: 7.61 s\n"
          ],
          "name": "stdout"
        }
      ]
    },
    {
      "cell_type": "code",
      "metadata": {
        "id": "Uwa6E0ob0cox",
        "colab_type": "code",
        "outputId": "922751a6-171e-4395-cc69-523ab532a861",
        "colab": {
          "base_uri": "https://localhost:8080/",
          "height": 53
        }
      },
      "source": [
        "%%time\n",
        "for key in data.columns:\n",
        "    if 'Days' in key:\n",
        "        data[key] = data[key].apply(round)"
      ],
      "execution_count": 0,
      "outputs": [
        {
          "output_type": "stream",
          "text": [
            "CPU times: user 433 ms, sys: 50 ms, total: 483 ms\n",
            "Wall time: 484 ms\n"
          ],
          "name": "stdout"
        }
      ]
    },
    {
      "cell_type": "code",
      "metadata": {
        "id": "4lksGa7J4JfU",
        "colab_type": "code",
        "colab": {}
      },
      "source": [
        "sel = ['Amount_Cardnum_sum_0d',\n",
        " 'Cardnum_count_0d',\n",
        " 'Amount_Cardnum_sum_1d',\n",
        " 'Amount_Merchnum_mean_0d',\n",
        " 'Amount_Merchnum_max_0d',\n",
        " 'Amount_Merchnum_sum_0d',\n",
        " 'Amount_Merchnum_max_1d',\n",
        " 'Amount_Cardnum_Merchnum_max_0d',\n",
        " 'Amount_Cardnum_Merch zip_sum_0d',\n",
        " 'Amount_Cardnum_Merch zip_max_3d',\n",
        " 'Amount_Cardnum_Merch zip_sum_3d',\n",
        " 'Cardnum_Merch zip_count_3d',\n",
        " 'Amount_Cardnum_Merch zip_sum_7d',\n",
        " 'Cardnum_Merch zip_count_7d',\n",
        " 'Amount_Cardnum_Merch zip_max_14d',\n",
        " 'Amount_Cardnum_Merch zip_sum_14d',\n",
        " 'Cardnum_Merch zip_count_14d',\n",
        " 'Amount_Cardnum_Merch zip_max_30d',\n",
        " 'Amount_Cardnum_Merch zip_sum_30d',\n",
        " 'Amount_Cardnum_Merch state_max_1d',\n",
        " 'Amount_Cardnum_Merch state_max_3d',\n",
        " 'Amount_Cardnum_Merch state_sum_3d',\n",
        " 'Amount_Cardnum_Merch state_max_7d',\n",
        " 'count_Cardnum_0d/mean_mean_Cardnum_14d',\n",
        " 'count_Cardnum_0d/mean_mean_Cardnum_30d',\n",
        " 'count_Cardnum_0d/mean_count_Cardnum_30d',\n",
        " 'count_Cardnum_1d/mean_mean_Cardnum_30d',\n",
        " 'count_Cardnum_1d/mean_count_Cardnum_30d',\n",
        " 'count_Merchnum_0d/mean_count_Merchnum_7d',\n",
        " 'count_Merchnum_0d/mean_count_Merchnum_14d']"
      ],
      "execution_count": 0,
      "outputs": []
    },
    {
      "cell_type": "code",
      "metadata": {
        "id": "m4vnHffQ4YIn",
        "colab_type": "code",
        "colab": {}
      },
      "source": [
        "data = data[sel + ['Date', 'Fraud']]"
      ],
      "execution_count": 0,
      "outputs": []
    },
    {
      "cell_type": "code",
      "metadata": {
        "id": "bTf_Ni-40k2P",
        "colab_type": "code",
        "colab": {}
      },
      "source": [
        "data = data[data['Date'] > pd.to_datetime('2010-01-14')]\n",
        "train = data[data['Date'] <= pd.to_datetime('2010-10-31')].copy()\n",
        "test = data[data['Date'] > pd.to_datetime('2010-10-31')].copy()"
      ],
      "execution_count": 0,
      "outputs": []
    },
    {
      "cell_type": "code",
      "metadata": {
        "id": "2m6Ey65G0hQt",
        "colab_type": "code",
        "colab": {}
      },
      "source": [
        "val = train.iloc[int(len(train)*0.8):,:]\n",
        "train = train.iloc[:int(len(train)*0.8),:]"
      ],
      "execution_count": 0,
      "outputs": []
    },
    {
      "cell_type": "code",
      "metadata": {
        "id": "CrZQ-V_04cDV",
        "colab_type": "code",
        "colab": {}
      },
      "source": [
        "X = train.drop(columns = ['Date', 'Fraud'])\n",
        "y = train['Fraud']"
      ],
      "execution_count": 0,
      "outputs": []
    },
    {
      "cell_type": "code",
      "metadata": {
        "id": "dmbhA5Pd5a2a",
        "colab_type": "code",
        "colab": {}
      },
      "source": [
        "def calculate_fdr(y_true, y_pred):\n",
        "    tot = y_true.sum()\n",
        "    pos = y_true[y_pred.argsort()[::-1]][:int(len(y_true) * 0.03)].sum()\n",
        "    return pos / tot *100"
      ],
      "execution_count": 0,
      "outputs": []
    },
    {
      "cell_type": "code",
      "metadata": {
        "id": "Ri7chI565_eh",
        "colab_type": "code",
        "colab": {}
      },
      "source": [
        "def xgbrf_score(params):\n",
        "    model = xgb.XGBRFClassifier(**params)\n",
        "    model.fit(X, y)\n",
        "    predictions = model.predict_proba(val.drop(columns = ['Date', 'Fraud']))[:,1]\n",
        "    fdr = calculate_fdr(val['Fraud'].values, predictions)\n",
        "    del model, predictions\n",
        "    gc.collect()\n",
        "    return {'loss': -1 * fdr, 'status': STATUS_OK}"
      ],
      "execution_count": 0,
      "outputs": []
    },
    {
      "cell_type": "code",
      "metadata": {
        "id": "HhUonrGb7JBB",
        "colab_type": "code",
        "colab": {}
      },
      "source": [
        "def xgbrf_optimize(evals, trials, optimizer=tpe.suggest, random_state=0):\n",
        "    space = {\n",
        "        'n_estimators': hp.choice('n_estimators', np.arange(200, 600, dtype=int)),\n",
        "        'eta': hp.quniform('eta', 0.025, 0.25, 0.025),\n",
        "        'max_depth':  hp.choice('max_depth', np.arange(1, 14, dtype=int)),\n",
        "        'min_child_weight': hp.quniform('min_child_weight', 1, 10, 1),\n",
        "        'subsample': hp.quniform('subsample', 0.7, 1, 0.05),\n",
        "        'gamma': hp.quniform('gamma', 0.5, 1, 0.05),\n",
        "        'colsample_bytree': hp.quniform('colsample_bytree', 0.7, 1, 0.05),\n",
        "        'alpha' :  hp.quniform('alpha', 0, 10, 1),\n",
        "        'lambda': hp.quniform('lambda', 1, 2, 0.1),\n",
        "        'tree_method': 'gpu_hist',\n",
        "        'seed': random_state\n",
        "    }\n",
        "    best = fmin(xgbrf_score, space, algo=tpe.suggest, max_evals=evals, trials = trials)\n",
        "    return best"
      ],
      "execution_count": 0,
      "outputs": []
    },
    {
      "cell_type": "code",
      "metadata": {
        "id": "HfZno4l17Ppi",
        "colab_type": "code",
        "outputId": "111e843a-8a60-43f2-fce4-f2a89eda351d",
        "colab": {
          "base_uri": "https://localhost:8080/",
          "height": 72
        }
      },
      "source": [
        "%%time\n",
        "trials = Trials()\n",
        "n= 1000\n",
        "xgbrf_best_param = xgbrf_optimize(evals = n,\n",
        "                      optimizer=tpe.suggest,\n",
        "                      trials = trials)"
      ],
      "execution_count": 14,
      "outputs": [
        {
          "output_type": "stream",
          "text": [
            "100%|██████████| 1000/1000 [1:07:33<00:00,  4.05s/it, best loss: -81.31868131868131]\n",
            "CPU times: user 45min 46s, sys: 21min 48s, total: 1h 7min 35s\n",
            "Wall time: 1h 7min 33s\n"
          ],
          "name": "stdout"
        }
      ]
    },
    {
      "cell_type": "code",
      "metadata": {
        "id": "OIw17anK7TLl",
        "colab_type": "code",
        "colab": {}
      },
      "source": [
        "xgbrf_best_param['tree_method'] = 'gpu_hist'\n",
        "xgbrf_best_param['max_depth'] = max(xgbrf_best_param['max_depth'], 6)"
      ],
      "execution_count": 0,
      "outputs": []
    },
    {
      "cell_type": "code",
      "metadata": {
        "id": "k39AfnmdYZn6",
        "colab_type": "code",
        "colab": {
          "base_uri": "https://localhost:8080/",
          "height": 199
        },
        "outputId": "29479e8f-fe84-4d03-d728-4bd06a4a9221"
      },
      "source": [
        "xgbrf_best_param"
      ],
      "execution_count": 16,
      "outputs": [
        {
          "output_type": "execute_result",
          "data": {
            "text/plain": [
              "{'alpha': 3.0,\n",
              " 'colsample_bytree': 1.0,\n",
              " 'eta': 0.225,\n",
              " 'gamma': 0.8500000000000001,\n",
              " 'lambda': 1.3,\n",
              " 'max_depth': 6,\n",
              " 'min_child_weight': 1.0,\n",
              " 'n_estimators': 254,\n",
              " 'subsample': 0.8500000000000001,\n",
              " 'tree_method': 'gpu_hist'}"
            ]
          },
          "metadata": {
            "tags": []
          },
          "execution_count": 16
        }
      ]
    },
    {
      "cell_type": "code",
      "metadata": {
        "id": "4VNGsO3GE2jo",
        "colab_type": "code",
        "colab": {}
      },
      "source": [
        "xgbrf_model = xgb.XGBRFClassifier(**xgbrf_best_param)"
      ],
      "execution_count": 0,
      "outputs": []
    },
    {
      "cell_type": "code",
      "metadata": {
        "id": "AI-zS6mOFC47",
        "colab_type": "code",
        "colab": {
          "base_uri": "https://localhost:8080/",
          "height": 217
        },
        "outputId": "2a6c4675-111c-458d-b22e-38181f781685"
      },
      "source": [
        "%%time\n",
        "xgbrf_model.fit(X, y)"
      ],
      "execution_count": 18,
      "outputs": [
        {
          "output_type": "stream",
          "text": [
            "CPU times: user 1.91 s, sys: 920 ms, total: 2.83 s\n",
            "Wall time: 2.83 s\n"
          ],
          "name": "stdout"
        },
        {
          "output_type": "execute_result",
          "data": {
            "text/plain": [
              "XGBRFClassifier(alpha=3.0, base_score=0.5, colsample_bylevel=1,\n",
              "                colsample_bynode=0.8, colsample_bytree=1.0, eta=0.225,\n",
              "                gamma=0.8500000000000001, lambda=1.3, learning_rate=1,\n",
              "                max_delta_step=0, max_depth=6, min_child_weight=1.0,\n",
              "                missing=None, n_estimators=254, n_jobs=1, nthread=None,\n",
              "                objective='binary:logistic', random_state=0, reg_alpha=0,\n",
              "                reg_lambda=1, scale_pos_weight=1, seed=None, silent=None,\n",
              "                subsample=0.8500000000000001, tree_method='gpu_hist',\n",
              "                verbosity=1)"
            ]
          },
          "metadata": {
            "tags": []
          },
          "execution_count": 18
        }
      ]
    },
    {
      "cell_type": "code",
      "metadata": {
        "id": "xDa6P4q4xTtb",
        "colab_type": "code",
        "colab": {
          "base_uri": "https://localhost:8080/",
          "height": 35
        },
        "outputId": "4bc89fe0-b015-4204-9e35-b38f148b2c4f"
      },
      "source": [
        "predictions = xgbrf_model.predict_proba(train.drop(columns = ['Date', 'Fraud']))[:,1]\n",
        "calculate_fdr(train['Fraud'].values, predictions)"
      ],
      "execution_count": 27,
      "outputs": [
        {
          "output_type": "execute_result",
          "data": {
            "text/plain": [
              "74.19825072886297"
            ]
          },
          "metadata": {
            "tags": []
          },
          "execution_count": 27
        }
      ]
    },
    {
      "cell_type": "code",
      "metadata": {
        "id": "jLfPRniRyRMN",
        "colab_type": "code",
        "colab": {
          "base_uri": "https://localhost:8080/",
          "height": 35
        },
        "outputId": "33b6d91d-9e3c-4bd1-f6d4-8e1442219955"
      },
      "source": [
        "predictions = xgbrf_model.predict_proba(val.drop(columns = ['Date', 'Fraud']))[:,1]\n",
        "calculate_fdr(val['Fraud'].values, predictions)"
      ],
      "execution_count": 28,
      "outputs": [
        {
          "output_type": "execute_result",
          "data": {
            "text/plain": [
              "78.02197802197803"
            ]
          },
          "metadata": {
            "tags": []
          },
          "execution_count": 28
        }
      ]
    },
    {
      "cell_type": "code",
      "metadata": {
        "id": "T55UQGQwxarH",
        "colab_type": "code",
        "colab": {
          "base_uri": "https://localhost:8080/",
          "height": 35
        },
        "outputId": "ab1d4623-a717-4e38-b477-bd4eab9c85a7"
      },
      "source": [
        "predictions = xgbrf_model.predict_proba(test.drop(columns = ['Date', 'Fraud']))[:,1]\n",
        "xgbrf_fdr = calculate_fdr(test['Fraud'].values, predictions)\n",
        "print(xgbrf_fdr)"
      ],
      "execution_count": 37,
      "outputs": [
        {
          "output_type": "stream",
          "text": [
            "56.98324022346368\n"
          ],
          "name": "stdout"
        }
      ]
    },
    {
      "cell_type": "code",
      "metadata": {
        "id": "eqcR00EvFZsZ",
        "colab_type": "code",
        "colab": {}
      },
      "source": [
        "def ctb_score(params):\n",
        "    model = ctb.CatBoostClassifier(**params)\n",
        "    model.fit(X, y)\n",
        "    predictions = model.predict_proba(val.drop(columns = ['Date', 'Fraud']))[:,1]\n",
        "    fdr = calculate_fdr(val['Fraud'].values, predictions)\n",
        "    del model, predictions\n",
        "    gc.collect()\n",
        "    return {'loss': -1 * fdr, 'status': STATUS_OK}"
      ],
      "execution_count": 0,
      "outputs": []
    },
    {
      "cell_type": "code",
      "metadata": {
        "id": "mlxWdp46yCOo",
        "colab_type": "code",
        "colab": {}
      },
      "source": [
        "def ctb_optimize(evals, trials, optimizer=tpe.suggest, random_state=0):\n",
        "    space = {\n",
        "            'depth': hp.choice('depth', np.arange(3, 12, dtype=int)),\n",
        "            'max_ctr_complexity': hp.choice('max_ctr_complexity', np.arange(1, 16, dtype=int)),\n",
        "            'border_count': hp.choice('border_count', [64, 128, 255]),\n",
        "            'learning_rate': hp.loguniform('learning_rate', -5, 0),\n",
        "            'one_hot_max_size': hp.choice('one_hot_max_size', np.arange(0, 25, dtype=int)),\n",
        "            'l2_leaf_reg': hp.loguniform('l2_leaf_reg', 0, np.log(10)),\n",
        "            'bagging_temperature': hp.uniform('bagging_temperature', 0, 1),\n",
        "            'iterations': hp.choice('iterations', np.arange(200, 600, dtype=int)),\n",
        "            'task_type': 'GPU',\n",
        "            'verbose': 0\n",
        "        }\n",
        "    best = fmin(ctb_score, space, algo=tpe.suggest, max_evals=evals, trials = trials)\n",
        "    return best"
      ],
      "execution_count": 0,
      "outputs": []
    },
    {
      "cell_type": "code",
      "metadata": {
        "id": "ESS8CKJSyGRM",
        "colab_type": "code",
        "colab": {
          "base_uri": "https://localhost:8080/",
          "height": 72
        },
        "outputId": "cb9496a2-074a-45fb-e661-262930741a14"
      },
      "source": [
        "%%time\n",
        "trials = Trials()\n",
        "n= 1000\n",
        "ctb_best_param = ctb_optimize(evals = n,\n",
        "                      optimizer=tpe.suggest,\n",
        "                      trials = trials)"
      ],
      "execution_count": 26,
      "outputs": [
        {
          "output_type": "stream",
          "text": [
            "100%|██████████| 1000/1000 [1:44:13<00:00,  6.25s/it, best loss: -76.37362637362637]\n",
            "CPU times: user 1h 38min 4s, sys: 1h 25min 33s, total: 3h 3min 38s\n",
            "Wall time: 1h 44min 13s\n"
          ],
          "name": "stdout"
        }
      ]
    },
    {
      "cell_type": "code",
      "metadata": {
        "id": "uWwVGa1XyIv8",
        "colab_type": "code",
        "colab": {}
      },
      "source": [
        "ctb_best_param['task_type'] = 'GPU'\n",
        "ctb_best_param['depth'] = max(ctb_best_param['depth'], 6)\n",
        "ctb_best_param['verbose'] = 0"
      ],
      "execution_count": 0,
      "outputs": []
    },
    {
      "cell_type": "code",
      "metadata": {
        "id": "i_OcVFFdKJSa",
        "colab_type": "code",
        "colab": {
          "base_uri": "https://localhost:8080/",
          "height": 199
        },
        "outputId": "91b3d391-3025-4bcb-f1ca-1f8e85eabcf1"
      },
      "source": [
        "ctb_best_param"
      ],
      "execution_count": 30,
      "outputs": [
        {
          "output_type": "execute_result",
          "data": {
            "text/plain": [
              "{'bagging_temperature': 0.2682546089372494,\n",
              " 'border_count': 2,\n",
              " 'depth': 6,\n",
              " 'iterations': 2,\n",
              " 'l2_leaf_reg': 6.880839808613398,\n",
              " 'learning_rate': 0.007401455866481072,\n",
              " 'max_ctr_complexity': 4,\n",
              " 'one_hot_max_size': 15,\n",
              " 'task_type': 'GPU',\n",
              " 'verbose': 0}"
            ]
          },
          "metadata": {
            "tags": []
          },
          "execution_count": 30
        }
      ]
    },
    {
      "cell_type": "code",
      "metadata": {
        "id": "nM3R9WIhKC--",
        "colab_type": "code",
        "colab": {}
      },
      "source": [
        "ctb_model = ctb.CatBoostClassifier(**ctb_best_param)"
      ],
      "execution_count": 0,
      "outputs": []
    },
    {
      "cell_type": "code",
      "metadata": {
        "id": "RgBXRyuTKMT2",
        "colab_type": "code",
        "colab": {
          "base_uri": "https://localhost:8080/",
          "height": 72
        },
        "outputId": "efa4bc1b-e240-4134-bb47-9b665745c466"
      },
      "source": [
        "%%time\n",
        "ctb_model.fit(X, y)"
      ],
      "execution_count": 32,
      "outputs": [
        {
          "output_type": "stream",
          "text": [
            "CPU times: user 346 ms, sys: 102 ms, total: 448 ms\n",
            "Wall time: 291 ms\n"
          ],
          "name": "stdout"
        },
        {
          "output_type": "execute_result",
          "data": {
            "text/plain": [
              "<catboost.core.CatBoostClassifier at 0x7f4e3fe9b518>"
            ]
          },
          "metadata": {
            "tags": []
          },
          "execution_count": 32
        }
      ]
    },
    {
      "cell_type": "code",
      "metadata": {
        "id": "xq3yQaEWKRa7",
        "colab_type": "code",
        "colab": {
          "base_uri": "https://localhost:8080/",
          "height": 35
        },
        "outputId": "081ea2eb-9a8d-4d19-900d-3666f6d4a0f6"
      },
      "source": [
        "predictions = ctb_model.predict_proba(train.drop(columns = ['Date', 'Fraud']))[:,1]\n",
        "calculate_fdr(train['Fraud'].values, predictions)"
      ],
      "execution_count": 33,
      "outputs": [
        {
          "output_type": "execute_result",
          "data": {
            "text/plain": [
              "58.01749271137027"
            ]
          },
          "metadata": {
            "tags": []
          },
          "execution_count": 33
        }
      ]
    },
    {
      "cell_type": "code",
      "metadata": {
        "id": "3icIl8GOKYQ3",
        "colab_type": "code",
        "colab": {
          "base_uri": "https://localhost:8080/",
          "height": 35
        },
        "outputId": "6e9c0d6d-e0df-4b8f-d133-953d096c84a1"
      },
      "source": [
        "predictions = ctb_model.predict_proba(val.drop(columns = ['Date', 'Fraud']))[:,1]\n",
        "calculate_fdr(val['Fraud'].values, predictions)"
      ],
      "execution_count": 34,
      "outputs": [
        {
          "output_type": "execute_result",
          "data": {
            "text/plain": [
              "32.417582417582416"
            ]
          },
          "metadata": {
            "tags": []
          },
          "execution_count": 34
        }
      ]
    },
    {
      "cell_type": "code",
      "metadata": {
        "id": "SvrWXoDgKeGe",
        "colab_type": "code",
        "colab": {
          "base_uri": "https://localhost:8080/",
          "height": 35
        },
        "outputId": "92b95837-f62b-4b78-bdb0-75706af91edd"
      },
      "source": [
        "predictions = ctb_model.predict_proba(test.drop(columns = ['Date', 'Fraud']))[:,1]\n",
        "ctb_fdr = calculate_fdr(test['Fraud'].values, predictions)\n",
        "print(xgbrf_fdr)"
      ],
      "execution_count": 36,
      "outputs": [
        {
          "output_type": "stream",
          "text": [
            "44.134078212290504\n"
          ],
          "name": "stdout"
        }
      ]
    },
    {
      "cell_type": "markdown",
      "metadata": {
        "id": "fx6UiE_TKtY2",
        "colab_type": "text"
      },
      "source": [
        "# Ensemble model"
      ]
    },
    {
      "cell_type": "code",
      "metadata": {
        "id": "M3_tQQbbKws2",
        "colab_type": "code",
        "colab": {
          "base_uri": "https://localhost:8080/",
          "height": 35
        },
        "outputId": "fd31232c-2032-44ea-df9b-db10316c1cbc"
      },
      "source": [
        "predictions = (ctb_model.predict_proba(train.drop(columns = ['Date', 'Fraud']))[:,1] * ctb_fdr + xgbrf_model.predict_proba(train.drop(columns = ['Date', 'Fraud']))[:,1] * xgbrf_fdr) / (ctb_fdr + xgbrf_fdr)\n",
        "calculate_fdr(train['Fraud'].values, predictions)"
      ],
      "execution_count": 39,
      "outputs": [
        {
          "output_type": "execute_result",
          "data": {
            "text/plain": [
              "74.63556851311954"
            ]
          },
          "metadata": {
            "tags": []
          },
          "execution_count": 39
        }
      ]
    },
    {
      "cell_type": "code",
      "metadata": {
        "id": "2RFARF0RLS2n",
        "colab_type": "code",
        "colab": {
          "base_uri": "https://localhost:8080/",
          "height": 35
        },
        "outputId": "ef3c6a4e-1b69-45e3-f5c2-2c1c37ec02a7"
      },
      "source": [
        "predictions = (ctb_model.predict_proba(val.drop(columns = ['Date', 'Fraud']))[:,1] * ctb_fdr + xgbrf_model.predict_proba(val.drop(columns = ['Date', 'Fraud']))[:,1] * xgbrf_fdr) / (ctb_fdr + xgbrf_fdr)\n",
        "calculate_fdr(val['Fraud'].values, predictions)"
      ],
      "execution_count": 40,
      "outputs": [
        {
          "output_type": "execute_result",
          "data": {
            "text/plain": [
              "78.57142857142857"
            ]
          },
          "metadata": {
            "tags": []
          },
          "execution_count": 40
        }
      ]
    },
    {
      "cell_type": "code",
      "metadata": {
        "id": "TsPwCM-KLfoE",
        "colab_type": "code",
        "colab": {
          "base_uri": "https://localhost:8080/",
          "height": 35
        },
        "outputId": "9f6e74ad-6bc7-4fe4-a80e-d82af421aed4"
      },
      "source": [
        "predictions = (ctb_model.predict_proba(test.drop(columns = ['Date', 'Fraud']))[:,1] * ctb_fdr + xgbrf_model.predict_proba(test.drop(columns = ['Date', 'Fraud']))[:,1] * xgbrf_fdr) / (ctb_fdr + xgbrf_fdr)\n",
        "calculate_fdr(test['Fraud'].values, predictions)"
      ],
      "execution_count": 41,
      "outputs": [
        {
          "output_type": "execute_result",
          "data": {
            "text/plain": [
              "56.98324022346368"
            ]
          },
          "metadata": {
            "tags": []
          },
          "execution_count": 41
        }
      ]
    }
  ]
}