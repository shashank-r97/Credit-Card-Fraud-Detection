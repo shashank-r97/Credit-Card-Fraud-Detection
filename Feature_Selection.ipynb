{
  "nbformat": 4,
  "nbformat_minor": 0,
  "metadata": {
    "colab": {
      "name": "Feature Selection.ipynb",
      "provenance": [],
      "mount_file_id": "1GIOI-LbT_fW0qyCzgDYSM1EsIbidz018",
      "authorship_tag": "ABX9TyMhUagKS6FjDPGBKcB7BIXA"
    },
    "kernelspec": {
      "name": "python3",
      "display_name": "Python 3"
    },
    "accelerator": "GPU"
  },
  "cells": [
    {
      "cell_type": "code",
      "metadata": {
        "id": "OBsoEi4IEYWh",
        "colab_type": "code",
        "colab": {
          "base_uri": "https://localhost:8080/",
          "height": 326
        },
        "outputId": "b4b6748d-ae2b-4dd8-9cf2-54d776e3d3d0"
      },
      "source": [
        "gpu_info = !nvidia-smi\n",
        "gpu_info = '\\n'.join(gpu_info)\n",
        "if gpu_info.find('failed') >= 0:\n",
        "  print('Select the Runtime → \"Change runtime type\" menu to enable a GPU accelerator, ')\n",
        "  print('and then re-execute this cell.')\n",
        "else:\n",
        "  print(gpu_info)"
      ],
      "execution_count": 1,
      "outputs": [
        {
          "output_type": "stream",
          "text": [
            "Fri Apr 17 03:30:59 2020       \n",
            "+-----------------------------------------------------------------------------+\n",
            "| NVIDIA-SMI 440.64.00    Driver Version: 418.67       CUDA Version: 10.1     |\n",
            "|-------------------------------+----------------------+----------------------+\n",
            "| GPU  Name        Persistence-M| Bus-Id        Disp.A | Volatile Uncorr. ECC |\n",
            "| Fan  Temp  Perf  Pwr:Usage/Cap|         Memory-Usage | GPU-Util  Compute M. |\n",
            "|===============================+======================+======================|\n",
            "|   0  Tesla P100-PCIE...  Off  | 00000000:00:04.0 Off |                    0 |\n",
            "| N/A   35C    P0    27W / 250W |      0MiB / 16280MiB |      0%      Default |\n",
            "+-------------------------------+----------------------+----------------------+\n",
            "                                                                               \n",
            "+-----------------------------------------------------------------------------+\n",
            "| Processes:                                                       GPU Memory |\n",
            "|  GPU       PID   Type   Process name                             Usage      |\n",
            "|=============================================================================|\n",
            "|  No running processes found                                                 |\n",
            "+-----------------------------------------------------------------------------+\n"
          ],
          "name": "stdout"
        }
      ]
    },
    {
      "cell_type": "code",
      "metadata": {
        "id": "-O9ay64g5Rv4",
        "colab_type": "code",
        "colab": {}
      },
      "source": [
        "import pandas as pd\n",
        "import numpy as np\n",
        "from scipy.stats import ks_2samp\n",
        "from sklearn.feature_selection import RFECV\n",
        "from sklearn.metrics import make_scorer\n",
        "import xgboost as xgb"
      ],
      "execution_count": 0,
      "outputs": []
    },
    {
      "cell_type": "code",
      "metadata": {
        "id": "rTQybK826j4i",
        "colab_type": "code",
        "colab": {
          "base_uri": "https://localhost:8080/",
          "height": 53
        },
        "outputId": "ed472642-d9dd-41f4-a448-a3dce6dfa1d2"
      },
      "source": [
        "%%time\n",
        "df = pd.read_csv('/content/drive/My Drive/Data/features.csv')\n",
        "df['Date'] = pd.to_datetime(df['Date'].apply(lambda x: x.split()[0]))"
      ],
      "execution_count": 3,
      "outputs": [
        {
          "output_type": "stream",
          "text": [
            "CPU times: user 4.88 s, sys: 439 ms, total: 5.32 s\n",
            "Wall time: 5.6 s\n"
          ],
          "name": "stdout"
        }
      ]
    },
    {
      "cell_type": "code",
      "metadata": {
        "id": "RtjymnFk7QDE",
        "colab_type": "code",
        "colab": {
          "base_uri": "https://localhost:8080/",
          "height": 53
        },
        "outputId": "2a7659f1-27d5-4373-a24a-878569642197"
      },
      "source": [
        "%%time\n",
        "for key in df.columns:\n",
        "    if 'Days' in key:\n",
        "        df[key] = df[key].apply(round)\n",
        "\n",
        "df = df[(df['Date'] >= pd.to_datetime('2010-01-15')) & (df['Date'] <= pd.to_datetime('2010-10-31'))]\n",
        "df = df.drop(columns = ['Recnum', 'Cardnum', 'Merchnum', 'Merch description', 'Merch state', 'Merch zip', 'Transtype',\n",
        "                            'Cardnum_Merchnum', 'Cardnum_Merch zip', 'Cardnum_Merch state', 'Date'])"
      ],
      "execution_count": 4,
      "outputs": [
        {
          "output_type": "stream",
          "text": [
            "CPU times: user 550 ms, sys: 45.1 ms, total: 596 ms\n",
            "Wall time: 596 ms\n"
          ],
          "name": "stdout"
        }
      ]
    },
    {
      "cell_type": "code",
      "metadata": {
        "id": "rri3zpr1_34k",
        "colab_type": "code",
        "colab": {}
      },
      "source": [
        "fraud = df[df['Fraud'] == 1]\n",
        "not_fraud = df[df['Fraud'] == 0]\n",
        "\n",
        "def ks_score(column):\n",
        "    return ks_2samp(fraud[column], not_fraud[column])[0]\n",
        "\n",
        "def calculate_fdr(y_true, y_pred, flag = -1):\n",
        "    tot = y_true.sum()\n",
        "    pos = y_true[y_pred.argsort()[::flag]][:int(len(y_true) * 0.03)].sum()\n",
        "    return pos / tot *100"
      ],
      "execution_count": 0,
      "outputs": []
    },
    {
      "cell_type": "code",
      "metadata": {
        "id": "iSTcr74C_4NV",
        "colab_type": "code",
        "colab": {
          "base_uri": "https://localhost:8080/",
          "height": 53
        },
        "outputId": "f0573b47-3879-43de-ddec-926ec54bb399"
      },
      "source": [
        "%%time\n",
        "scores = pd.DataFrame({'feature': df.columns})\n",
        "scores['KS_score'] = scores['feature'].apply(ks_score)\n",
        "scores['FDR_score'] = scores['feature'].apply(lambda x: max(calculate_fdr(df['Fraud'].values, df[x].values, -1), calculate_fdr(df['Fraud'].values, df[x].values, 1)))\n",
        "scores['KS_rank'] = scores['KS_score'].rank(ascending = False)\n",
        "scores['FDR_rank'] = scores['FDR_score'].rank(ascending = False)\n",
        "scores['average_rank'] = (scores['FDR_rank'] + scores['KS_rank'])/2\n",
        "scores = scores.sort_values(by = 'average_rank', ascending = True).head(81)"
      ],
      "execution_count": 6,
      "outputs": [
        {
          "output_type": "stream",
          "text": [
            "CPU times: user 7.17 s, sys: 26.2 ms, total: 7.19 s\n",
            "Wall time: 7.2 s\n"
          ],
          "name": "stdout"
        }
      ]
    },
    {
      "cell_type": "code",
      "metadata": {
        "id": "EZR-1tz3_4KA",
        "colab_type": "code",
        "colab": {
          "base_uri": "https://localhost:8080/",
          "height": 206
        },
        "outputId": "0af44573-ff37-465b-f593-cbfd4ed0622e"
      },
      "source": [
        "scores.head()"
      ],
      "execution_count": 7,
      "outputs": [
        {
          "output_type": "execute_result",
          "data": {
            "text/html": [
              "<div>\n",
              "<style scoped>\n",
              "    .dataframe tbody tr th:only-of-type {\n",
              "        vertical-align: middle;\n",
              "    }\n",
              "\n",
              "    .dataframe tbody tr th {\n",
              "        vertical-align: top;\n",
              "    }\n",
              "\n",
              "    .dataframe thead th {\n",
              "        text-align: right;\n",
              "    }\n",
              "</style>\n",
              "<table border=\"1\" class=\"dataframe\">\n",
              "  <thead>\n",
              "    <tr style=\"text-align: right;\">\n",
              "      <th></th>\n",
              "      <th>feature</th>\n",
              "      <th>KS_score</th>\n",
              "      <th>FDR_score</th>\n",
              "      <th>KS_rank</th>\n",
              "      <th>FDR_rank</th>\n",
              "      <th>average_rank</th>\n",
              "    </tr>\n",
              "  </thead>\n",
              "  <tbody>\n",
              "    <tr>\n",
              "      <th>1</th>\n",
              "      <td>Fraud</td>\n",
              "      <td>1.000000</td>\n",
              "      <td>100.000000</td>\n",
              "      <td>1.0</td>\n",
              "      <td>1.0</td>\n",
              "      <td>1.00</td>\n",
              "    </tr>\n",
              "    <tr>\n",
              "      <th>191</th>\n",
              "      <td>Amount_Cardnum_Merch zip_sum_3d</td>\n",
              "      <td>0.681104</td>\n",
              "      <td>64.400922</td>\n",
              "      <td>3.0</td>\n",
              "      <td>2.0</td>\n",
              "      <td>2.50</td>\n",
              "    </tr>\n",
              "    <tr>\n",
              "      <th>200</th>\n",
              "      <td>Amount_Cardnum_Merch zip_sum_7d</td>\n",
              "      <td>0.683414</td>\n",
              "      <td>63.594470</td>\n",
              "      <td>2.0</td>\n",
              "      <td>5.5</td>\n",
              "      <td>3.75</td>\n",
              "    </tr>\n",
              "    <tr>\n",
              "      <th>136</th>\n",
              "      <td>Amount_Cardnum_Merchnum_sum_3d</td>\n",
              "      <td>0.677825</td>\n",
              "      <td>63.824885</td>\n",
              "      <td>5.0</td>\n",
              "      <td>3.0</td>\n",
              "      <td>4.00</td>\n",
              "    </tr>\n",
              "    <tr>\n",
              "      <th>145</th>\n",
              "      <td>Amount_Cardnum_Merchnum_sum_7d</td>\n",
              "      <td>0.680373</td>\n",
              "      <td>63.594470</td>\n",
              "      <td>4.0</td>\n",
              "      <td>5.5</td>\n",
              "      <td>4.75</td>\n",
              "    </tr>\n",
              "  </tbody>\n",
              "</table>\n",
              "</div>"
            ],
            "text/plain": [
              "                             feature  KS_score  ...  FDR_rank  average_rank\n",
              "1                              Fraud  1.000000  ...       1.0          1.00\n",
              "191  Amount_Cardnum_Merch zip_sum_3d  0.681104  ...       2.0          2.50\n",
              "200  Amount_Cardnum_Merch zip_sum_7d  0.683414  ...       5.5          3.75\n",
              "136   Amount_Cardnum_Merchnum_sum_3d  0.677825  ...       3.0          4.00\n",
              "145   Amount_Cardnum_Merchnum_sum_7d  0.680373  ...       5.5          4.75\n",
              "\n",
              "[5 rows x 6 columns]"
            ]
          },
          "metadata": {
            "tags": []
          },
          "execution_count": 7
        }
      ]
    },
    {
      "cell_type": "code",
      "metadata": {
        "id": "pnIvP9bFBq6A",
        "colab_type": "code",
        "colab": {}
      },
      "source": [
        "scores.drop(labels=1, axis=0, inplace = True)"
      ],
      "execution_count": 0,
      "outputs": []
    },
    {
      "cell_type": "code",
      "metadata": {
        "id": "OTcnZLPFC4B-",
        "colab_type": "code",
        "colab": {}
      },
      "source": [
        "sel = scores['feature'].to_list()"
      ],
      "execution_count": 0,
      "outputs": []
    },
    {
      "cell_type": "code",
      "metadata": {
        "id": "sO2nnwJSDcS7",
        "colab_type": "code",
        "colab": {}
      },
      "source": [
        "X = df[sel]\n",
        "y = df['Fraud']"
      ],
      "execution_count": 0,
      "outputs": []
    },
    {
      "cell_type": "code",
      "metadata": {
        "id": "ow7GMGLqDdkX",
        "colab_type": "code",
        "colab": {}
      },
      "source": [
        "fdr_scorer = make_scorer(calculate_fdr, needs_proba = True)"
      ],
      "execution_count": 0,
      "outputs": []
    },
    {
      "cell_type": "code",
      "metadata": {
        "id": "TRbS9fGSEBF8",
        "colab_type": "code",
        "colab": {
          "base_uri": "https://localhost:8080/",
          "height": 53
        },
        "outputId": "f123c03a-434d-4b44-e8d9-e3f7ff1432eb"
      },
      "source": [
        "%%time\n",
        "rf_rfe = RFECV(xgb.XGBRFClassifier(tree_method = 'gpu_hist'), min_features_to_select = 1, step = 1, verbose = 0, scoring = fdr_scorer, cv = 5)\n",
        "rf_rfe.fit(X, y)"
      ],
      "execution_count": 12,
      "outputs": [
        {
          "output_type": "stream",
          "text": [
            "CPU times: user 1min 51s, sys: 40.7 s, total: 2min 31s\n",
            "Wall time: 2min 31s\n"
          ],
          "name": "stdout"
        }
      ]
    },
    {
      "cell_type": "code",
      "metadata": {
        "id": "D_-2isHOEWBO",
        "colab_type": "code",
        "colab": {
          "base_uri": "https://localhost:8080/",
          "height": 90
        },
        "outputId": "0509449e-302b-49e1-fc63-53e38ef5dcee"
      },
      "source": [
        "rf_rfe.ranking_"
      ],
      "execution_count": 13,
      "outputs": [
        {
          "output_type": "execute_result",
          "data": {
            "text/plain": [
              "array([1, 1, 1, 1, 1, 1, 1, 1, 1, 1, 1, 1, 1, 1, 1, 1, 1, 1, 1, 1, 1, 1,\n",
              "       1, 1, 1, 1, 1, 1, 1, 1, 1, 1, 1, 1, 1, 1, 1, 1, 1, 1, 1, 1, 1, 1,\n",
              "       1, 1, 1, 1, 1, 1, 1, 1, 1, 1, 1, 1, 1, 1, 1, 1, 1, 1, 1, 1, 1, 1,\n",
              "       1, 1, 1, 1, 1, 1, 1, 1, 1, 1, 1, 1, 1, 1])"
            ]
          },
          "metadata": {
            "tags": []
          },
          "execution_count": 13
        }
      ]
    },
    {
      "cell_type": "code",
      "metadata": {
        "id": "TdktT5JEIdrp",
        "colab_type": "code",
        "colab": {
          "base_uri": "https://localhost:8080/",
          "height": 53
        },
        "outputId": "075a9d5c-f50c-4c66-b251-f1c6599ac10a"
      },
      "source": [
        "%%time\n",
        "gbm_rfe = RFECV(xgb.XGBClassifier(tree_method = 'gpu_hist'), min_features_to_select = 1, step = 1, verbose = 0, scoring = fdr_scorer, cv = 5)\n",
        "gbm_rfe.fit(X, y)"
      ],
      "execution_count": 14,
      "outputs": [
        {
          "output_type": "stream",
          "text": [
            "CPU times: user 1min 59s, sys: 46.5 s, total: 2min 46s\n",
            "Wall time: 2min 45s\n"
          ],
          "name": "stdout"
        }
      ]
    },
    {
      "cell_type": "code",
      "metadata": {
        "id": "i795ADhaJASL",
        "colab_type": "code",
        "colab": {
          "base_uri": "https://localhost:8080/",
          "height": 108
        },
        "outputId": "147bcaf6-c71f-4742-dd13-f0e7965f8567"
      },
      "source": [
        "gbm_rfe.ranking_"
      ],
      "execution_count": 15,
      "outputs": [
        {
          "output_type": "execute_result",
          "data": {
            "text/plain": [
              "array([ 1,  1, 48,  1,  1,  1,  1, 20, 53,  1,  1,  8,  2,  1, 10,  1, 45,\n",
              "        6,  1,  1,  3, 40, 56, 14, 54, 23, 13, 32, 51,  1,  1, 35, 22, 50,\n",
              "       36,  7, 31,  1,  1, 25, 19, 55, 49,  1,  1, 39,  1, 41,  5, 34,  1,\n",
              "       33, 38, 44, 12, 30, 43, 16, 37, 26,  1, 42, 21, 11,  1, 15, 46,  1,\n",
              "       24, 47, 27, 17, 18, 29,  4, 52,  1,  9,  1, 28])"
            ]
          },
          "metadata": {
            "tags": []
          },
          "execution_count": 15
        }
      ]
    },
    {
      "cell_type": "code",
      "metadata": {
        "id": "mlEQgw_TLu7C",
        "colab_type": "code",
        "colab": {}
      },
      "source": [
        "scores['random_forest_rank'] = rf_rfe.ranking_\n",
        "scores['boosting_tree_rank'] = gbm_rfe.ranking_\n",
        "scores['model_rank'] = (scores['random_forest_rank'] + scores['boosting_tree_rank'])/2\n",
        "scores = scores.sort_values(by = 'model_rank', ascending = True).head(30)"
      ],
      "execution_count": 0,
      "outputs": []
    },
    {
      "cell_type": "code",
      "metadata": {
        "id": "cRPWWRh8Lsl4",
        "colab_type": "code",
        "colab": {
          "base_uri": "https://localhost:8080/",
          "height": 562
        },
        "outputId": "b17b3228-426f-4949-a639-1ee2d29d6cb6"
      },
      "source": [
        "scores['feature'].to_list()"
      ],
      "execution_count": 17,
      "outputs": [
        {
          "output_type": "execute_result",
          "data": {
            "text/plain": [
              "['Amount_Cardnum_Merch zip_sum_3d',\n",
              " 'Amount_Cardnum_sum_1d',\n",
              " 'Amount_Cardnum_max_14d',\n",
              " 'Amount_Cardnum_max_7d',\n",
              " 'Amount_Merchnum_max_7d',\n",
              " 'Amount_Merchnum_sum_1d',\n",
              " 'Amount_Cardnum_Merch zip_max_30d',\n",
              " 'Amount_Cardnum_Merch zip_max_14d',\n",
              " 'Amount_Cardnum_sum_0d',\n",
              " 'Amount_Cardnum_Merch zip_sum_0d',\n",
              " 'Amount_Cardnum_mean_14d',\n",
              " 'Amount_Merchnum_sum_0d',\n",
              " 'Amount_Cardnum_Merch state_sum_0d',\n",
              " 'Amount_Merchnum_sum_3d',\n",
              " 'Amount_Cardnum_Merch state_sum_7d',\n",
              " 'Amount_Cardnum_Merchnum_sum_1d',\n",
              " 'Amount_Merchnum_mean_1d',\n",
              " 'Amount_Merchnum_max_1d',\n",
              " 'Amount_Cardnum_Merch zip_sum_14d',\n",
              " 'Amount_Cardnum_Merchnum_sum_14d',\n",
              " 'Amount_Cardnum_Merch state_sum_3d',\n",
              " 'Amount_Cardnum_Merchnum_sum_7d',\n",
              " 'Amount_Merchnum_sum_7d',\n",
              " 'Amount_Cardnum_Merch zip_sum_7d',\n",
              " 'Amount_Cardnum_Merch zip_mean_14d',\n",
              " 'Amount_Cardnum_Merch state_sum_14d',\n",
              " 'Amount_Cardnum_Merchnum_max_14d',\n",
              " 'Amount_Cardnum_Merchnum_mean_14d',\n",
              " 'Amount_Merchnum_max_3d',\n",
              " 'Amount_Cardnum_Merch state_max_3d']"
            ]
          },
          "metadata": {
            "tags": []
          },
          "execution_count": 17
        }
      ]
    }
  ]
}