{
  "nbformat": 4,
  "nbformat_minor": 0,
  "metadata": {
    "colab": {
      "name": "RF and Boosting Tress Model Fraud Project 3.ipynb",
      "provenance": [],
      "collapsed_sections": [],
      "toc_visible": true,
      "mount_file_id": "https://github.com/shashank-r97/Fraud-Project-3/blob/master/RF_and_Boosting_Tress_Model_Fraud_Project_3.ipynb",
      "authorship_tag": "ABX9TyPTVslZonGWX5CoK0J3RXMi"
    },
    "kernelspec": {
      "name": "python3",
      "display_name": "Python 3"
    },
    "accelerator": "GPU"
  },
  "cells": [
    {
      "cell_type": "code",
      "metadata": {
        "id": "14soZU2h0EJ0",
        "colab_type": "code",
        "colab": {}
      },
      "source": [
        "#!pip install catboost"
      ],
      "execution_count": 0,
      "outputs": []
    },
    {
      "cell_type": "code",
      "metadata": {
        "id": "TC1NfDVu0UYH",
        "colab_type": "code",
        "outputId": "0c2eb7d4-e35c-4765-9903-87ab7e27bd94",
        "colab": {
          "base_uri": "https://localhost:8080/",
          "height": 326
        }
      },
      "source": [
        "gpu_info = !nvidia-smi\n",
        "gpu_info = '\\n'.join(gpu_info)\n",
        "if gpu_info.find('failed') >= 0:\n",
        "  print('Select the Runtime → \"Change runtime type\" menu to enable a GPU accelerator, ')\n",
        "  print('and then re-execute this cell.')\n",
        "else:\n",
        "  print(gpu_info)"
      ],
      "execution_count": 2,
      "outputs": [
        {
          "output_type": "stream",
          "text": [
            "Wed Apr 15 03:19:10 2020       \n",
            "+-----------------------------------------------------------------------------+\n",
            "| NVIDIA-SMI 440.64.00    Driver Version: 418.67       CUDA Version: 10.1     |\n",
            "|-------------------------------+----------------------+----------------------+\n",
            "| GPU  Name        Persistence-M| Bus-Id        Disp.A | Volatile Uncorr. ECC |\n",
            "| Fan  Temp  Perf  Pwr:Usage/Cap|         Memory-Usage | GPU-Util  Compute M. |\n",
            "|===============================+======================+======================|\n",
            "|   0  Tesla P100-PCIE...  Off  | 00000000:00:04.0 Off |                    0 |\n",
            "| N/A   42C    P0    27W / 250W |      0MiB / 16280MiB |      0%      Default |\n",
            "+-------------------------------+----------------------+----------------------+\n",
            "                                                                               \n",
            "+-----------------------------------------------------------------------------+\n",
            "| Processes:                                                       GPU Memory |\n",
            "|  GPU       PID   Type   Process name                             Usage      |\n",
            "|=============================================================================|\n",
            "|  No running processes found                                                 |\n",
            "+-----------------------------------------------------------------------------+\n"
          ],
          "name": "stdout"
        }
      ]
    },
    {
      "cell_type": "code",
      "metadata": {
        "id": "FI0_Jb010N-9",
        "colab_type": "code",
        "colab": {}
      },
      "source": [
        "import pandas as pd\n",
        "import numpy as np\n",
        "from hyperopt import hp\n",
        "import gc\n",
        "import xgboost as xgb\n",
        "import catboost as ctb\n",
        "from sklearn.model_selection import train_test_split\n",
        "pd.set_option('display.max_columns',None)\n",
        "pd.set_option('display.max_rows',None)\n",
        "from hyperopt import fmin, tpe, STATUS_OK, STATUS_FAIL, Trials"
      ],
      "execution_count": 0,
      "outputs": []
    },
    {
      "cell_type": "code",
      "metadata": {
        "id": "JNYmZWNw0Z_Z",
        "colab_type": "code",
        "outputId": "df6e5812-f1e6-4e5d-c46b-7c424c96e271",
        "colab": {
          "base_uri": "https://localhost:8080/",
          "height": 53
        }
      },
      "source": [
        "%%time\n",
        "data = pd.read_csv('/content/drive/My Drive/Data/features.csv')\n",
        "data['Date'] = pd.to_datetime(data['Date'].apply(lambda x: x.split()[0]))"
      ],
      "execution_count": 4,
      "outputs": [
        {
          "output_type": "stream",
          "text": [
            "CPU times: user 4.68 s, sys: 383 ms, total: 5.06 s\n",
            "Wall time: 5.32 s\n"
          ],
          "name": "stdout"
        }
      ]
    },
    {
      "cell_type": "code",
      "metadata": {
        "id": "Uwa6E0ob0cox",
        "colab_type": "code",
        "outputId": "7a461eff-eadc-4640-d0aa-f27625f39971",
        "colab": {
          "base_uri": "https://localhost:8080/",
          "height": 53
        }
      },
      "source": [
        "%%time\n",
        "for key in data.columns:\n",
        "    if 'Days' in key:\n",
        "        data[key] = data[key].apply(round)"
      ],
      "execution_count": 5,
      "outputs": [
        {
          "output_type": "stream",
          "text": [
            "CPU times: user 405 ms, sys: 41.9 ms, total: 447 ms\n",
            "Wall time: 448 ms\n"
          ],
          "name": "stdout"
        }
      ]
    },
    {
      "cell_type": "code",
      "metadata": {
        "id": "j5baTgjRF9Y6",
        "colab_type": "code",
        "colab": {}
      },
      "source": [
        "sel = ['Amount_Cardnum_sum_0d',\n",
        " 'Cardnum_count_0d',\n",
        " 'Amount_Cardnum_sum_1d',\n",
        " 'Amount_Merchnum_mean_0d',\n",
        " 'Amount_Merchnum_max_0d',\n",
        " 'Amount_Merchnum_sum_0d',\n",
        " 'Amount_Merchnum_max_1d',\n",
        " 'Amount_Cardnum_Merchnum_max_0d',\n",
        " 'Amount_Cardnum_Merch zip_sum_0d',\n",
        " 'Amount_Cardnum_Merch zip_max_3d',\n",
        " 'Amount_Cardnum_Merch zip_sum_3d',\n",
        " 'Cardnum_Merch zip_count_3d',\n",
        " 'Amount_Cardnum_Merch zip_sum_7d',\n",
        " 'Cardnum_Merch zip_count_7d',\n",
        " 'Amount_Cardnum_Merch zip_max_14d',\n",
        " 'Amount_Cardnum_Merch zip_sum_14d',\n",
        " 'Cardnum_Merch zip_count_14d',\n",
        " 'Amount_Cardnum_Merch zip_max_30d',\n",
        " 'Amount_Cardnum_Merch zip_sum_30d',\n",
        " 'Amount_Cardnum_Merch state_max_1d',\n",
        " 'Amount_Cardnum_Merch state_max_3d',\n",
        " 'Amount_Cardnum_Merch state_sum_3d',\n",
        " 'Amount_Cardnum_Merch state_max_7d',\n",
        " 'count_Cardnum_0d/mean_mean_Cardnum_14d',\n",
        " 'count_Cardnum_0d/mean_mean_Cardnum_30d',\n",
        " 'count_Cardnum_0d/mean_count_Cardnum_30d',\n",
        " 'count_Cardnum_1d/mean_mean_Cardnum_30d',\n",
        " 'count_Cardnum_1d/mean_count_Cardnum_30d',\n",
        " 'count_Merchnum_0d/mean_count_Merchnum_7d',\n",
        " 'count_Merchnum_0d/mean_count_Merchnum_14d']"
      ],
      "execution_count": 0,
      "outputs": []
    },
    {
      "cell_type": "code",
      "metadata": {
        "id": "m4vnHffQ4YIn",
        "colab_type": "code",
        "colab": {}
      },
      "source": [
        "data = data[sel + ['Date', 'Fraud']]"
      ],
      "execution_count": 0,
      "outputs": []
    },
    {
      "cell_type": "code",
      "metadata": {
        "id": "bTf_Ni-40k2P",
        "colab_type": "code",
        "colab": {}
      },
      "source": [
        "data = data[data['Date'] > pd.to_datetime('2010-01-14')]\n",
        "train = data[data['Date'] <= pd.to_datetime('2010-10-31')].copy()\n",
        "test = data[data['Date'] > pd.to_datetime('2010-10-31')].copy()"
      ],
      "execution_count": 0,
      "outputs": []
    },
    {
      "cell_type": "code",
      "metadata": {
        "id": "2m6Ey65G0hQt",
        "colab_type": "code",
        "colab": {}
      },
      "source": [
        "train, val = train_test_split(train, test_size = 0.2, random_state = 0)"
      ],
      "execution_count": 0,
      "outputs": []
    },
    {
      "cell_type": "code",
      "metadata": {
        "id": "CrZQ-V_04cDV",
        "colab_type": "code",
        "colab": {}
      },
      "source": [
        "X = train.drop(columns = ['Date', 'Fraud'])\n",
        "y = train['Fraud']"
      ],
      "execution_count": 0,
      "outputs": []
    },
    {
      "cell_type": "code",
      "metadata": {
        "id": "dmbhA5Pd5a2a",
        "colab_type": "code",
        "colab": {}
      },
      "source": [
        "def calculate_fdr(y_true, y_pred):\n",
        "    tot = y_true.sum()\n",
        "    pos = y_true[y_pred.argsort()[::-1]][:int(len(y_true) * 0.03)].sum()\n",
        "    return pos / tot *100"
      ],
      "execution_count": 0,
      "outputs": []
    },
    {
      "cell_type": "code",
      "metadata": {
        "id": "Ri7chI565_eh",
        "colab_type": "code",
        "colab": {}
      },
      "source": [
        "def xgbrf_score(params):\n",
        "    model = xgb.XGBRFClassifier(**params)\n",
        "    model.fit(X, y)\n",
        "    predictions = model.predict_proba(val.drop(columns = ['Date', 'Fraud']))[:,1]\n",
        "    fdr = calculate_fdr(val['Fraud'].values, predictions)\n",
        "    del model, predictions\n",
        "    gc.collect()\n",
        "    return {'loss': -1 * fdr, 'status': STATUS_OK}"
      ],
      "execution_count": 0,
      "outputs": []
    },
    {
      "cell_type": "code",
      "metadata": {
        "id": "HhUonrGb7JBB",
        "colab_type": "code",
        "colab": {}
      },
      "source": [
        "def xgbrf_optimize(evals, trials, optimizer=tpe.suggest, random_state=0):\n",
        "    space = {\n",
        "        'n_estimators': hp.choice('n_estimators', np.arange(200, 600, dtype=int)),\n",
        "        'eta': hp.quniform('eta', 0.025, 0.25, 0.025),\n",
        "        'max_depth':  hp.choice('max_depth', np.arange(1, 14, dtype=int)),\n",
        "        'min_child_weight': hp.quniform('min_child_weight', 1, 10, 1),\n",
        "        'subsample': hp.quniform('subsample', 0.7, 1, 0.05),\n",
        "        'gamma': hp.quniform('gamma', 0.5, 1, 0.05),\n",
        "        'colsample_bytree': hp.quniform('colsample_bytree', 0.7, 1, 0.05),\n",
        "        'alpha' :  hp.quniform('alpha', 0, 10, 1),\n",
        "        'lambda': hp.quniform('lambda', 1, 2, 0.1),\n",
        "        'tree_method': 'gpu_hist',\n",
        "        'seed': random_state\n",
        "    }\n",
        "    best = fmin(xgbrf_score, space, algo=tpe.suggest, max_evals=evals, trials = trials)\n",
        "    return best"
      ],
      "execution_count": 0,
      "outputs": []
    },
    {
      "cell_type": "code",
      "metadata": {
        "id": "HfZno4l17Ppi",
        "colab_type": "code",
        "outputId": "3daed0fc-8889-426c-e433-d653a8343e8a",
        "colab": {
          "base_uri": "https://localhost:8080/",
          "height": 35
        }
      },
      "source": [
        "%%time\n",
        "trials = Trials()\n",
        "n= 1000\n",
        "xgbrf_best_param = xgbrf_optimize(evals = n,\n",
        "                      optimizer=tpe.suggest,\n",
        "                      trials = trials)"
      ],
      "execution_count": 0,
      "outputs": [
        {
          "output_type": "stream",
          "text": [
            " 88%|████████▊ | 877/1000 [49:46<05:05,  2.48s/it, best loss: -83.16326530612244]"
          ],
          "name": "stdout"
        }
      ]
    },
    {
      "cell_type": "code",
      "metadata": {
        "id": "OIw17anK7TLl",
        "colab_type": "code",
        "colab": {}
      },
      "source": [
        "xgbrf_best_param['tree_method'] = 'gpu_hist'\n",
        "xgbrf_best_param['max_depth'] = max(xgbrf_best_param['max_depth'], 10)\n",
        "xgbrf_best_param['seed'] = 0"
      ],
      "execution_count": 0,
      "outputs": []
    },
    {
      "cell_type": "code",
      "metadata": {
        "id": "k39AfnmdYZn6",
        "colab_type": "code",
        "colab": {}
      },
      "source": [
        "xgbrf_best_param"
      ],
      "execution_count": 0,
      "outputs": []
    },
    {
      "cell_type": "code",
      "metadata": {
        "id": "4VNGsO3GE2jo",
        "colab_type": "code",
        "colab": {}
      },
      "source": [
        "xgbrf_model = xgb.XGBRFClassifier(**xgbrf_best_param)"
      ],
      "execution_count": 0,
      "outputs": []
    },
    {
      "cell_type": "code",
      "metadata": {
        "id": "AI-zS6mOFC47",
        "colab_type": "code",
        "colab": {}
      },
      "source": [
        "%%time\n",
        "xgbrf_model.fit(X, y)"
      ],
      "execution_count": 0,
      "outputs": []
    },
    {
      "cell_type": "code",
      "metadata": {
        "id": "xDa6P4q4xTtb",
        "colab_type": "code",
        "colab": {}
      },
      "source": [
        "predictions = xgbrf_model.predict_proba(train.drop(columns = ['Date', 'Fraud']))[:,1]\n",
        "calculate_fdr(train['Fraud'].values, predictions)"
      ],
      "execution_count": 0,
      "outputs": []
    },
    {
      "cell_type": "code",
      "metadata": {
        "id": "jLfPRniRyRMN",
        "colab_type": "code",
        "colab": {}
      },
      "source": [
        "predictions = xgbrf_model.predict_proba(val.drop(columns = ['Date', 'Fraud']))[:,1]\n",
        "calculate_fdr(val['Fraud'].values, predictions)"
      ],
      "execution_count": 0,
      "outputs": []
    },
    {
      "cell_type": "code",
      "metadata": {
        "id": "T55UQGQwxarH",
        "colab_type": "code",
        "colab": {}
      },
      "source": [
        "predictions = xgbrf_model.predict_proba(test.drop(columns = ['Date', 'Fraud']))[:,1]\n",
        "xgbrf_fdr = calculate_fdr(test['Fraud'].values, predictions)\n",
        "print(xgbrf_fdr)"
      ],
      "execution_count": 0,
      "outputs": []
    },
    {
      "cell_type": "code",
      "metadata": {
        "id": "eqcR00EvFZsZ",
        "colab_type": "code",
        "colab": {}
      },
      "source": [
        "def ctb_score(params):\n",
        "    model = ctb.CatBoostClassifier(**params)\n",
        "    model.fit(X, y)\n",
        "    predictions = model.predict_proba(val.drop(columns = ['Date', 'Fraud']))[:,1]\n",
        "    fdr = calculate_fdr(val['Fraud'].values, predictions)\n",
        "    del model, predictions\n",
        "    gc.collect()\n",
        "    return {'loss': -1 * fdr, 'status': STATUS_OK}"
      ],
      "execution_count": 0,
      "outputs": []
    },
    {
      "cell_type": "code",
      "metadata": {
        "id": "mlxWdp46yCOo",
        "colab_type": "code",
        "colab": {}
      },
      "source": [
        "def ctb_optimize(evals, trials, optimizer=tpe.suggest, random_state=0):\n",
        "    space = {\n",
        "            'depth': hp.choice('depth', np.arange(3, 12, dtype=int)),\n",
        "            'max_ctr_complexity': hp.choice('max_ctr_complexity', np.arange(1, 16, dtype=int)),\n",
        "            'border_count': hp.choice('border_count', [64, 128, 255]),\n",
        "            'learning_rate': hp.loguniform('learning_rate', -5, 0),\n",
        "            'one_hot_max_size': hp.choice('one_hot_max_size', np.arange(0, 25, dtype=int)),\n",
        "            'l2_leaf_reg': hp.loguniform('l2_leaf_reg', 0, np.log(10)),\n",
        "            'bagging_temperature': hp.uniform('bagging_temperature', 0, 1),\n",
        "            'iterations': hp.choice('iterations', np.arange(200, 600, dtype=int)),\n",
        "            'task_type': 'GPU',\n",
        "            'verbose': 0,\n",
        "            'random_seed': random_state,\n",
        "        }\n",
        "    best = fmin(ctb_score, space, algo=tpe.suggest, max_evals=evals, trials = trials)\n",
        "    return best"
      ],
      "execution_count": 0,
      "outputs": []
    },
    {
      "cell_type": "code",
      "metadata": {
        "id": "ESS8CKJSyGRM",
        "colab_type": "code",
        "colab": {}
      },
      "source": [
        "%%time\n",
        "trials = Trials()\n",
        "n= 1000\n",
        "ctb_best_param = ctb_optimize(evals = n,\n",
        "                      optimizer=tpe.suggest,\n",
        "                      trials = trials)"
      ],
      "execution_count": 0,
      "outputs": []
    },
    {
      "cell_type": "code",
      "metadata": {
        "id": "uWwVGa1XyIv8",
        "colab_type": "code",
        "colab": {}
      },
      "source": [
        "ctb_best_param['task_type'] = 'GPU'\n",
        "ctb_best_param['depth'] = max(ctb_best_param['depth'], 10)\n",
        "ctb_best_param['verbose'] = 0\n",
        "ctb_best_param['random_seed'] = 0"
      ],
      "execution_count": 0,
      "outputs": []
    },
    {
      "cell_type": "code",
      "metadata": {
        "id": "i_OcVFFdKJSa",
        "colab_type": "code",
        "colab": {}
      },
      "source": [
        "ctb_best_param"
      ],
      "execution_count": 0,
      "outputs": []
    },
    {
      "cell_type": "code",
      "metadata": {
        "id": "nM3R9WIhKC--",
        "colab_type": "code",
        "colab": {}
      },
      "source": [
        "ctb_model = ctb.CatBoostClassifier(**ctb_best_param)"
      ],
      "execution_count": 0,
      "outputs": []
    },
    {
      "cell_type": "code",
      "metadata": {
        "id": "RgBXRyuTKMT2",
        "colab_type": "code",
        "colab": {}
      },
      "source": [
        "%%time\n",
        "ctb_model.fit(X, y)"
      ],
      "execution_count": 0,
      "outputs": []
    },
    {
      "cell_type": "code",
      "metadata": {
        "id": "xq3yQaEWKRa7",
        "colab_type": "code",
        "colab": {}
      },
      "source": [
        "predictions = ctb_model.predict_proba(train.drop(columns = ['Date', 'Fraud']))[:,1]\n",
        "calculate_fdr(train['Fraud'].values, predictions)"
      ],
      "execution_count": 0,
      "outputs": []
    },
    {
      "cell_type": "code",
      "metadata": {
        "id": "3icIl8GOKYQ3",
        "colab_type": "code",
        "colab": {}
      },
      "source": [
        "predictions = ctb_model.predict_proba(val.drop(columns = ['Date', 'Fraud']))[:,1]\n",
        "calculate_fdr(val['Fraud'].values, predictions)"
      ],
      "execution_count": 0,
      "outputs": []
    },
    {
      "cell_type": "code",
      "metadata": {
        "id": "SvrWXoDgKeGe",
        "colab_type": "code",
        "colab": {}
      },
      "source": [
        "predictions = ctb_model.predict_proba(test.drop(columns = ['Date', 'Fraud']))[:,1]\n",
        "ctb_fdr = calculate_fdr(test['Fraud'].values, predictions)\n",
        "print(ctb_fdr)"
      ],
      "execution_count": 0,
      "outputs": []
    },
    {
      "cell_type": "markdown",
      "metadata": {
        "id": "fx6UiE_TKtY2",
        "colab_type": "text"
      },
      "source": [
        "# Ensemble model"
      ]
    },
    {
      "cell_type": "code",
      "metadata": {
        "id": "M3_tQQbbKws2",
        "colab_type": "code",
        "colab": {}
      },
      "source": [
        "predictions = (ctb_model.predict_proba(train.drop(columns = ['Date', 'Fraud']))[:,1] * ctb_fdr + xgbrf_model.predict_proba(train.drop(columns = ['Date', 'Fraud']))[:,1] * xgbrf_fdr) / (ctb_fdr + xgbrf_fdr)\n",
        "calculate_fdr(train['Fraud'].values, predictions)"
      ],
      "execution_count": 0,
      "outputs": []
    },
    {
      "cell_type": "code",
      "metadata": {
        "id": "2RFARF0RLS2n",
        "colab_type": "code",
        "colab": {}
      },
      "source": [
        "predictions = (ctb_model.predict_proba(val.drop(columns = ['Date', 'Fraud']))[:,1] * ctb_fdr + xgbrf_model.predict_proba(val.drop(columns = ['Date', 'Fraud']))[:,1] * xgbrf_fdr) / (ctb_fdr + xgbrf_fdr)\n",
        "calculate_fdr(val['Fraud'].values, predictions)"
      ],
      "execution_count": 0,
      "outputs": []
    },
    {
      "cell_type": "code",
      "metadata": {
        "id": "TsPwCM-KLfoE",
        "colab_type": "code",
        "colab": {}
      },
      "source": [
        "predictions = (ctb_model.predict_proba(test.drop(columns = ['Date', 'Fraud']))[:,1] * ctb_fdr + xgbrf_model.predict_proba(test.drop(columns = ['Date', 'Fraud']))[:,1] * xgbrf_fdr) / (ctb_fdr + xgbrf_fdr)\n",
        "calculate_fdr(test['Fraud'].values, predictions)"
      ],
      "execution_count": 0,
      "outputs": []
    }
  ]
}